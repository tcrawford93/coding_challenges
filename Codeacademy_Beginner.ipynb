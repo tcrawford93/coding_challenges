{
 "cells": [
  {
   "cell_type": "markdown",
   "metadata": {},
   "source": [
    "Working through the following challenges here: https://www.codecademy.com/resources/blog/python-code-challenges-for-beginners/"
   ]
  },
  {
   "cell_type": "markdown",
   "metadata": {},
   "source": [
    "### Challenge #1 - Convert radians into degrees\n",
    "\n",
    "Write a function in Python that accepts one numeric parameter. This parameter will be the measure of an angle in radians. The function should convert the radians into degrees and then return that value."
   ]
  },
  {
   "cell_type": "code",
   "execution_count": 3,
   "metadata": {},
   "outputs": [
    {
     "name": "stdout",
     "output_type": "stream",
     "text": [
      "131.78029288008932\n"
     ]
    }
   ],
   "source": [
    "import math as m\n",
    "\n",
    "#compute the value of degrees from radians\n",
    "def rads_to_deg(rad):\n",
    "    deg = rad*180/m.pi\n",
    "    print(deg)\n",
    "\n",
    "#create input to capture the radians\n",
    "radians_input = 2.3\n",
    "\n",
    "#call function to calculate degrees\n",
    "rads_to_deg(radians_input)"
   ]
  },
  {
   "cell_type": "markdown",
   "metadata": {},
   "source": [
    "### Challenge #2 - Sort a list\n",
    "\n",
    "Create a function in Python that accepts two parameters. The first will be a list of numbers. The second parameter will be a string that can be one of the following values: asc, desc, and none."
   ]
  },
  {
   "cell_type": "code",
   "execution_count": 4,
   "metadata": {},
   "outputs": [
    {
     "name": "stdout",
     "output_type": "stream",
     "text": [
      "[3, 7, 34, 38, 52, 65, 97, 101]\n"
     ]
    }
   ],
   "source": [
    "#define a list of integers\n",
    "ints = [3,65,7,97,34,38,52,101]\n",
    "#sort type = asc, desc or none\n",
    "sort_type = 'asc'\n",
    "\n",
    "#create funtion to sort the list\n",
    "def sort_ints(l,s):\n",
    "    num_list = l\n",
    "    sort_type = s\n",
    "    if sort_type == 'asc':\n",
    "        num_list.sort()\n",
    "    elif s == 'desc':\n",
    "        num_list.sort(reverse=True)\n",
    "    else:\n",
    "        num_list \n",
    "    print(num_list)\n",
    "\n",
    "sort_ints(ints,sort_type)"
   ]
  },
  {
   "cell_type": "markdown",
   "metadata": {},
   "source": [
    "### Challenge #3 - Convert a decimal number into binary\n",
    "\n",
    "Write a function in Python that accepts a decimal number and returns the equivalent binary number. To make this simple, the decimal number will always be less than 1,024, so the binary number returned will always be less than ten digits long."
   ]
  },
  {
   "cell_type": "code",
   "execution_count": 5,
   "metadata": {},
   "outputs": [
    {
     "name": "stdout",
     "output_type": "stream",
     "text": [
      "00010100101\n"
     ]
    }
   ],
   "source": [
    "binary_list = [1024,512,256,128,64,32,16,8,4,2,1]\n",
    "\n",
    "#funtion to convert a number < 1024 into binary\n",
    "def convert_to_binary(num):\n",
    "    bin = ''\n",
    "    for i in binary_list:\n",
    "        if num >= i and num > 0:\n",
    "            bin += '1'\n",
    "            num -= i\n",
    "        else:\n",
    "            bin += '0'\n",
    "    print(bin)\n",
    "\n",
    "#create the input\n",
    "number = 165\n",
    "\n",
    "#call the function if the number =< 1024\n",
    "if number > 1024:\n",
    "    print(\"Number is more than 1024, pick a smaller number!\")\n",
    "else:\n",
    "    convert_to_binary(number)"
   ]
  },
  {
   "cell_type": "markdown",
   "metadata": {},
   "source": [
    "### Challenge #4 - Count the vowels in a string\n",
    "\n",
    "Create a function in Python that accepts a single word and returns the number of vowels in that word. In this function, only a, e, i, o, and u will be counted as vowels — not y."
   ]
  },
  {
   "cell_type": "code",
   "execution_count": 7,
   "metadata": {},
   "outputs": [
    {
     "name": "stdout",
     "output_type": "stream",
     "text": [
      "The string kxiyuttyljyigpekavhp has 5 vowels in it!\n"
     ]
    }
   ],
   "source": [
    "import random\n",
    "import string\n",
    "\n",
    "#define variables\n",
    "ascii = string.ascii_lowercase\n",
    "l = 20\n",
    "s = ''\n",
    "vowels = ['a','e','i','o','u']\n",
    "\n",
    "#build a string of length l\n",
    "for i in range(l):\n",
    "    s += random.choice(ascii)\n",
    "\n",
    "#define a function to count the number of vowels in the generated string\n",
    "def count_vowels(s1):\n",
    "    count = 0\n",
    "    for i in range(len(s1)):\n",
    "        if s1[i] in vowels:\n",
    "            count += 1\n",
    "    return count\n",
    "\n",
    "#call function\n",
    "v = count_vowels(s)\n",
    "\n",
    "#print the result\n",
    "print(f'The string {s} has {v} vowels in it!')\n"
   ]
  },
  {
   "cell_type": "markdown",
   "metadata": {},
   "source": [
    "### Challenge #5 - Hide the credit card number\n",
    "\n",
    "Write a function in Python that accepts a credit card number. It should return a string where all the characters are hidden with an asterisk except the last four."
   ]
  },
  {
   "cell_type": "code",
   "execution_count": 11,
   "metadata": {},
   "outputs": [
    {
     "name": "stdout",
     "output_type": "stream",
     "text": [
      "************6236\n"
     ]
    }
   ],
   "source": [
    "#define the input\n",
    "cc_num = \"1827928361086236\"\n",
    "\n",
    "def hide_nums(s):\n",
    "    length = len(s)\n",
    "    s_new = ''\n",
    "    for i in range(length):\n",
    "        if i < (length-4):\n",
    "            s_new += '*'\n",
    "        else:\n",
    "            s_new += s[i]\n",
    "    return s_new\n",
    "\n",
    "print(hide_nums(cc_num))"
   ]
  },
  {
   "cell_type": "markdown",
   "metadata": {},
   "source": [
    "### Challenge #6 - Are the Xs equal to the Os?\n",
    "\n",
    "Create a Python function that accepts a string. This function should count the number of Xs and the number of Os in the string. It should then return a boolean value of either True or False. If there are no Xs or Os in the string, it should also return True."
   ]
  },
  {
   "cell_type": "code",
   "execution_count": 13,
   "metadata": {},
   "outputs": [
    {
     "name": "stdout",
     "output_type": "stream",
     "text": [
      "Does the string xoxoo76hasldnxsdijasidj786oxoxox contain the same number of x's and o's? True\n",
      "Does the string xoxdsfjkbndfkoskjdakxhbdsfjxoxo contain the same number of x's and o's? False\n"
     ]
    }
   ],
   "source": [
    "#define string\n",
    "xo_string = 'xoxoo76hasldnxsdijasidj786oxoxox'\n",
    "xo_string2 = 'xoxdsfjkbndfkoskjdakxhbdsfjxoxo'\n",
    "\n",
    "def isX(s):\n",
    "    if s.lower() == 'x':\n",
    "        return True\n",
    "    else:\n",
    "        return False\n",
    "\n",
    "def isO(s):\n",
    "    if s.lower() == 'o':\n",
    "        return True\n",
    "    else:\n",
    "        return False\n",
    "    \n",
    "def compare(s):\n",
    "    count_x = 0\n",
    "    count_o = 0\n",
    "    for i in range(len(s)):\n",
    "        if isX(s[i]):\n",
    "            count_x += 1\n",
    "        if isO(s[i]):\n",
    "            count_o += 1\n",
    "    return count_x == count_o\n",
    "\n",
    "print(f'Does the string {xo_string} contain the same number of x\\'s and o\\'s? {compare(xo_string)}')\n",
    "print(f'Does the string {xo_string2} contain the same number of x\\'s and o\\'s? {compare(xo_string2)}')"
   ]
  },
  {
   "cell_type": "markdown",
   "metadata": {},
   "source": [
    "### Challenge #7 - Create a calculator function\n",
    "\n",
    "Write a Python function that accepts three parameters. The first parameter is an integer. The second is one of the following mathematical operators: +, -, /, or . The third parameter will also be an integer."
   ]
  },
  {
   "cell_type": "code",
   "execution_count": 16,
   "metadata": {},
   "outputs": [
    {
     "name": "stdout",
     "output_type": "stream",
     "text": [
      "Calculation: 5*15\n",
      "Result: 75\n"
     ]
    }
   ],
   "source": [
    "num1 = 5\n",
    "op = '*'\n",
    "num2 = 15\n",
    "\n",
    "\n",
    "def calc(n1, n2, o):\n",
    "    result = 0\n",
    "    message = ''\n",
    "    if o != '+' and o != '-' and o != '/' and o != '*':\n",
    "        message = 'Operator not in defined list, should be + - / or *'\n",
    "    if o == '+':\n",
    "        result = n1 + n2\n",
    "        message = f'Result: {result}'\n",
    "    if o == '-':\n",
    "        result = n1 - n2\n",
    "        message = f'Result: {result}'\n",
    "    if o == '/':\n",
    "        result = n1 / n2\n",
    "        message = f'Result: {result}'\n",
    "    if o == '*':\n",
    "        result = n1 * n2\n",
    "        message = f'Result: {result}'\n",
    "    print(message)\n",
    "\n",
    "print(f'Calculation: {num1}{op}{num2}')\n",
    "calc(num1, num2, op)"
   ]
  },
  {
   "cell_type": "markdown",
   "metadata": {},
   "source": [
    "### Challenge #8 - Give me the discount\n",
    "\n",
    "Create a function in Python that accepts two parameters. The first should be the full price of an item as an integer. The second should be the discount percentage as an integer."
   ]
  },
  {
   "cell_type": "code",
   "execution_count": 18,
   "metadata": {},
   "outputs": [
    {
     "name": "stdout",
     "output_type": "stream",
     "text": [
      "Cost before discount: £119\n",
      "Discount: 15%\n",
      "Cost of item after discount: £101.15\n"
     ]
    }
   ],
   "source": [
    "#define the inputs\n",
    "cost = 119\n",
    "discount = 15\n",
    "\n",
    "#functio\n",
    "def discount_applied(c,d):\n",
    "    return c*(1-d/100)\n",
    "\n",
    "print(f'Cost before discount: £{cost}')\n",
    "print(f'Discount: {discount}%')\n",
    "print(f'Cost of item after discount: £{round(discount_applied(cost, discount),2)}')"
   ]
  },
  {
   "cell_type": "markdown",
   "metadata": {},
   "source": [
    "### Challenge #9 - Just the numbers\n",
    "\n",
    "Write a function in Python that accepts a list of any length that contains a mix of non-negative integers and strings. The function should return a list with only the integers in the original list in the same order."
   ]
  },
  {
   "cell_type": "code",
   "execution_count": 19,
   "metadata": {},
   "outputs": [
    {
     "name": "stdout",
     "output_type": "stream",
     "text": [
      "Original list: [9, 's', 9, 'f', 'g', 0, 7, 9, 5, 'h', 4, 'g', 'f', 'a', 10]\n",
      "New list: [9, 9, 0, 7, 9, 5, 4, 10]\n"
     ]
    }
   ],
   "source": [
    "l = [9, 's', 9, 'f', 'g', 0, 7, 9, 5, 'h', 4, 'g', 'f', 'a', 10]\n",
    "\n",
    "def get_ints(l):\n",
    "    int_list = []\n",
    "    index1 = 0\n",
    "    for i in range(len(l)):\n",
    "        if isinstance(l[i], int):\n",
    "            int_list.insert(index1, l[i])\n",
    "            index1 += 1\n",
    "    return int_list\n",
    "\n",
    "print(f'Original list: {l}')\n",
    "print(f'New list: {get_ints(l)}')"
   ]
  },
  {
   "cell_type": "markdown",
   "metadata": {},
   "source": [
    "### Challenge 10 - Repeat the characters\n",
    "\n",
    "Create a Python function that accepts a string. The function should return a string, with each character in the original string doubled. If you send the function “now” as a parameter, it should return “nnooww,” and if you send “123a!”, it should return “112233aa!!”."
   ]
  },
  {
   "cell_type": "code",
   "execution_count": 20,
   "metadata": {},
   "outputs": [
    {
     "name": "stdout",
     "output_type": "stream",
     "text": [
      "112233aa!!\n"
     ]
    }
   ],
   "source": [
    "s = '123a!'\n",
    "\n",
    "def repeat_chars(s):\n",
    "    new_string = ''\n",
    "    for i in range(len(s)):\n",
    "        new_string += s[i]+s[i]\n",
    "    return new_string\n",
    "\n",
    "print(repeat_chars(s))"
   ]
  }
 ],
 "metadata": {
  "kernelspec": {
   "display_name": "Python 3 (ipykernel)",
   "language": "python",
   "name": "python3"
  },
  "language_info": {
   "codemirror_mode": {
    "name": "ipython",
    "version": 3
   },
   "file_extension": ".py",
   "mimetype": "text/x-python",
   "name": "python",
   "nbconvert_exporter": "python",
   "pygments_lexer": "ipython3",
   "version": "3.10.9"
  }
 },
 "nbformat": 4,
 "nbformat_minor": 4
}
