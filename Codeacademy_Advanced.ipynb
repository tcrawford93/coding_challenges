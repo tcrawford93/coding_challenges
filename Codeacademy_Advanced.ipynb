{
 "cells": [
  {
   "cell_type": "markdown",
   "metadata": {},
   "source": [
    "Working through the following challenges here: https://www.codecademy.com/resources/blog/advanced-python-code-challenges/"
   ]
  },
  {
   "cell_type": "markdown",
   "metadata": {},
   "source": [
    "### Challenge #1 - Create a Morse code translator\n",
    "\n",
    "Write a function in Python that takes in a string that can have alphanumeric characters in lower or upper case.\n",
    "\n",
    "The string can also contain any special characters handled in Morse code, including commas, colons, apostrophes, periods, exclamation marks, and question marks. The function should return the Morse code equivalent for the string."
   ]
  },
  {
   "cell_type": "code",
   "execution_count": 2,
   "metadata": {},
   "outputs": [
    {
     "name": "stdout",
     "output_type": "stream",
     "text": [
      "Message: Hello my name is Tom!' \n",
      "Morse code: .... . .-.. .-.. --- / -- -.-- / -. .- -- . / .. ... / - --- -- -.-.-- .----. \n"
     ]
    }
   ],
   "source": [
    "mc_dict = {'A':'.-', 'B':'-...',\n",
    "                'C':'-.-.', 'D':'-..', 'E':'.',\n",
    "                'F':'..-.', 'G':'--.', 'H':'....',\n",
    "                'I':'..', 'J':'.---', 'K':'-.-',\n",
    "                'L':'.-..', 'M':'--', 'N':'-.',\n",
    "                'O':'---', 'P':'.--.', 'Q':'--.-',\n",
    "                'R':'.-.', 'S':'...', 'T':'-',\n",
    "                'U':'..-', 'V':'...-', 'W':'.--',\n",
    "                'X':'-..-', 'Y':'-.--', 'Z':'--..',\n",
    "                '1':'.----', '2':'..---', '3':'...--',\n",
    "                '4':'....-', '5':'.....', '6':'-....',\n",
    "                '7':'--...', '8':'---..', '9':'----.',\n",
    "                '0':'-----', ',':'--..--', '.':'.-.-.-',\n",
    "                '?':'..--..', '/':'-..-.', '-':'-....-',\n",
    "                '(':'-.--.', ')':'-.--.-', '&':'.-...', \n",
    "                '\\'':'.----.', '@':'.--.-.', '=':'-...-', \n",
    "                '!':'-.-.--', '%':'----- -..-. -----', \n",
    "                \"+\":'.-.-.', '\"':'.-..-.', '?':'..--..',\n",
    "                ':':'---...', '$': '...-..-', ' ':'/'}\n",
    "\n",
    "message = 'Hello my name is Tom!\\''\n",
    "\n",
    "def convert_to_morse(message):\n",
    "    morse_code = \"\"\n",
    "    for c in message.upper():\n",
    "        morse_code += mc_dict[c] + ' '\n",
    "    return morse_code\n",
    "\n",
    "print(f'Message: {message} \\nMorse code: {convert_to_morse(message)}')"
   ]
  },
  {
   "cell_type": "markdown",
   "metadata": {},
   "source": [
    "### Challenge #2 - Write a Friday 13th detector\n",
    "\n",
    "Create a function in Python that accepts two parameters. They’ll both be numbers. The first will be the month as a number, and the second will be the four-digit year. The function should parse the parameters and return True if the month contains a Friday the 13th and False if it doesn’t."
   ]
  },
  {
   "cell_type": "code",
   "execution_count": 6,
   "metadata": {},
   "outputs": [
    {
     "name": "stdout",
     "output_type": "stream",
     "text": [
      "Does 8/2022 contain a Friday 13th? False\n",
      "Does 1/2023 contain a Friday 13th? True\n"
     ]
    }
   ],
   "source": [
    "import calendar as c\n",
    "\n",
    "#test1\n",
    "month1 = 8\n",
    "year1 = 2022\n",
    "\n",
    "#test2\n",
    "month2 = 1\n",
    "year2 = 2023\n",
    "\n",
    "def calc_fri_13(m,y):\n",
    "    d = c.weekday(y, m, 13)\n",
    "    if d == 4:\n",
    "        return True\n",
    "    else:\n",
    "        return False\n",
    "\n",
    "print(f'Does {month1}/{year1} contain a Friday 13th? {calc_fri_13(month1,year1)}')\n",
    "print(f'Does {month2}/{year2} contain a Friday 13th? {calc_fri_13(month2,year2)}')"
   ]
  },
  {
   "cell_type": "markdown",
   "metadata": {},
   "source": [
    "### Challenge #3 - Find the domain name using an IP address\n",
    "\n",
    "For this Python challenge, you’ll want to import the Python socket library. That’s the only hint. Write a function that accepts an IP address, makes a DNS request, and returns the domain name that maps to that IP address using PTR DNS records."
   ]
  },
  {
   "cell_type": "code",
   "execution_count": 21,
   "metadata": {},
   "outputs": [
    {
     "name": "stdout",
     "output_type": "stream",
     "text": [
      "The domain name for IP Address: 80.4.235.197 is lewi-28-b2-v4wan-168101-cust964.vm4.cable.virginm.net\n"
     ]
    }
   ],
   "source": [
    "import socket as s\n",
    "\n",
    "def get_domain(ip):\n",
    "    try:\n",
    "        dns = s.gethostbyaddr(ip)[0]\n",
    "        return dns\n",
    "    except s.herror:\n",
    "        return 'No domain name found'\n",
    "\n",
    "ip = '80.4.235.197'\n",
    "\n",
    "domain = get_domain(ip)\n",
    "\n",
    "print(f\"The domain name for IP Address: {ip} is {domain}\")"
   ]
  },
  {
   "cell_type": "markdown",
   "metadata": {},
   "source": [
    "### Challenge #4 - Parse an encoded string\n",
    "\n",
    "In this Python challenge, you need to write a function that accepts an encoded string as a parameter. This string will contain a first name, last name, and an id.\n",
    "\n",
    "Values in the string can be separated by any number of zeros. The id is a numeric value but will contain no zeros. The function should parse the string and return a Python dictionary that contains the first name, last name, and id values.\n",
    "\n",
    "An example input would be “Robert000Smith000123”. The function should return the following using that input:\n",
    "\n",
    "{ “first_name”: “Robert”, “last_name”: “Smith”, “id”: “123” }"
   ]
  },
  {
   "cell_type": "code",
   "execution_count": 65,
   "metadata": {},
   "outputs": [
    {
     "name": "stdout",
     "output_type": "stream",
     "text": [
      "{'first_name': 'Tom', 'last_name': 'Crawford', 'id': '164'}\n"
     ]
    }
   ],
   "source": [
    "#encoded string definition\n",
    "l_char = \"Tom000Crawford0000000164\"\n",
    "\n",
    "#define the dictionary\n",
    "dict_chars = {\"first_name\":\"\", \"last_name\":\"\", \"id\":\"\"}\n",
    "\n",
    "def list_to_dict(chars):\n",
    "    #split the list by 0 and discard any blank strings in the list\n",
    "    split_chars = [x for x in chars.split('0') if x != '']\n",
    "    \n",
    "    #get keys into a list\n",
    "    keys = list(dict_chars.keys())\n",
    "    \n",
    "    #loop through the list and assign new variables to the dictionary\n",
    "    for i in range(len(split_chars)):\n",
    "        dict_chars[keys[i]] = split_chars[i]\n",
    "\n",
    "    return (dict_chars)\n",
    "\n",
    "print(list_to_dict(l_char))"
   ]
  },
  {
   "cell_type": "markdown",
   "metadata": {},
   "source": [
    "### Challenge #5 - Convert a decimal to a hex\n",
    "\n",
    "For this challenge, you need to write a function in Python that accepts a string of ASCII characters. It should return each character’s value as a hexadecimal string. Separate each byte by a space, and return all alpha hexadecimal characters as lowercase."
   ]
  },
  {
   "cell_type": "code",
   "execution_count": 160,
   "metadata": {},
   "outputs": [
    {
     "name": "stdout",
     "output_type": "stream",
     "text": [
      "0x48 0x65 0x6c 0x6c 0x6f 0x20 0x57 0x6f 0x72 0x6c 0x64 0x21\n"
     ]
    }
   ],
   "source": [
    "char = \"Hello World!\"\n",
    "\n",
    "def convert_to_hex(char):\n",
    "    out = \"\"\n",
    "    for i in char:\n",
    "        out += hex(ord(i))+\" \"\n",
    "\n",
    "    print(out.strip())\n",
    "\n",
    "convert_to_hex(char)"
   ]
  },
  {
   "cell_type": "markdown",
   "metadata": {},
   "source": [
    "### Challenge #6 - Find the difference between the strings\n",
    "\n",
    "Write a function in Python that accepts two string parameters. The first parameter will be a string of characters, and the second parameter will be the same string of characters, but they’ll be in a different order and have one extra character. The function should return that extra character.\n",
    "\n",
    "For example, if the first parameter is “eueiieo” and the second is “iieoedue”, then the function should return “d”."
   ]
  },
  {
   "cell_type": "code",
   "execution_count": 170,
   "metadata": {},
   "outputs": [
    {
     "name": "stdout",
     "output_type": "stream",
     "text": [
      "d\n"
     ]
    }
   ],
   "source": [
    "s1 = \"eueiieo\"\n",
    "s2 = \"iieoedue\"\n",
    "\n",
    "def diff_between_strings(s1,s2):\n",
    "    for i in s1:\n",
    "        s2 = s2.replace(i,'')\n",
    "\n",
    "    print(s2)\n",
    "\n",
    "diff_between_strings(s1,s2)"
   ]
  },
  {
   "cell_type": "markdown",
   "metadata": {},
   "source": [
    "### Challenge #7 - Shadow sentences\n",
    "\n",
    "For the purpose of this challenge, shadow sentences are sentences where every word is the same length and order but without any of the same letters. Write a function that accepts two parameters that may or may not be shadows of each other. The function should return True if they are and False if they aren’t.\n",
    "\n",
    "An example would be “they are round” and “fold two times” which are shadow sentences, while “his friends” and “our company” are not because both contain an r.\n",
    "\n",
    "N.B. I didn't think the examples in the actual description above are correct as “they are round” and “fold two times” both contain a d so this is not a shadow sentence by definition. My definition is that both sentences contain the same number of words, each word contains the same number of letters i.e. word 1 length in sentence 1 =  word 1 length in sentence 2, word 2 length in sentence 1 =  word 2 length in sentence 2 etc. and that the letters in sentence 1 are not in contained in any words in sentence 2."
   ]
  },
  {
   "cell_type": "code",
   "execution_count": 7,
   "metadata": {},
   "outputs": [
    {
     "name": "stdout",
     "output_type": "stream",
     "text": [
      "True\n"
     ]
    }
   ],
   "source": [
    "string1 = \"kit seed\"\n",
    "string2 = \"our play\"\n",
    "\n",
    "def compare_letters_in_string(s1,s2):\n",
    "    for i in s1:\n",
    "        if i in s2:\n",
    "           return False\n",
    "    return True\n",
    "        \n",
    "def compare_word_lengths(l1,l2):\n",
    "    for i in range(len(l1)):\n",
    "        if len(l1[i]) != len(l2[i]):\n",
    "            return False\n",
    "    return True\n",
    "\n",
    "def compare_number_words(l1,l2):\n",
    "    if len(l1) != len(l2):\n",
    "        return False\n",
    "    return True\n",
    "\n",
    "def compare_shadow_sentence(s1, s2):\n",
    "    \n",
    "    l1 = string1.split()\n",
    "    l2 = string2.split()\n",
    "\n",
    "    s1_new= s1.replace(\" \",\"\")\n",
    "    s2_new = s2.replace(\" \",\"\")\n",
    "\n",
    "    final = [compare_number_words(l1,l2),compare_word_lengths(l1,l2),compare_letters_in_string(s1_new,s2_new)]\n",
    "\n",
    "    print(all(final))\n",
    "\n",
    "compare_shadow_sentence(string1, string2)"
   ]
  },
  {
   "cell_type": "markdown",
   "metadata": {},
   "source": [
    "### Challenge #8 - Tic Tac Toe blocker\n",
    "\n",
    "Write a function that’ll accept two numbers. These numbers will represent a position on a tic-tac-toe board. They can be 0 through 8, where 0 is the top-left spot, and 8 is the bottom-right spot.\n",
    "\n",
    "These parameters are two marks on the tic-tac-toe board. The function should return the number of the spot that can block these two spots from winning the game."
   ]
  },
  {
   "cell_type": "code",
   "execution_count": 8,
   "metadata": {},
   "outputs": [
    {
     "name": "stdout",
     "output_type": "stream",
     "text": [
      "To block the two moves 0 and 4 the spot taken should be 8 which is in the bottom_right position. \n",
      "This blocks the winning move in the following 3 spaces: diag_top_left_bottom_right\n"
     ]
    }
   ],
   "source": [
    "# Board positions\n",
    "#  |0|1|2|\n",
    "#  |3|4|5|\n",
    "#  |6|7|8|\n",
    "\n",
    "move_1 = 0\n",
    "move_2 = 4\n",
    "\n",
    "grid = {\"top_row\" : [0,1,2],\n",
    "    \"mid_row\" : [3,4,5],\n",
    "    \"bottom_row\" : [6,7,8],\n",
    "    \"left_col\" : [0,3,6],\n",
    "    \"mid_col\" : [1,4,7],\n",
    "    \"right_col\" : [2,5,8],\n",
    "    \"diag_top_left_bottom_right\" : [0,4,8],\n",
    "    \"diag_bottom_left_top_right\" : [2,4,6]}\n",
    "\n",
    "grid_name = {0 : \"top_left\",\n",
    "    1 : \"top_mid\",\n",
    "    2 : \"top_right\",\n",
    "    3 : \"mid_left\",\n",
    "    4 : \"mid_mid\",\n",
    "    5 : \"mid_right\",\n",
    "    6 : \"bottom_left\",\n",
    "    7 : \"bottom_mid\",\n",
    "    8 : \"bottom_right\"}\n",
    "\n",
    "def block_move(x,y):\n",
    "    \n",
    "    for k, v in grid.items():\n",
    "        if x in v and y in v:\n",
    "            o = v\n",
    "            n = k\n",
    "    \n",
    "    o.remove(x)\n",
    "    o.remove(y)\n",
    "\n",
    "    block_move = o[0]\n",
    "    block_move_name = grid_name[block_move]\n",
    "\n",
    "    print(f\"To block the two moves {x} and {y} the spot taken should be {block_move} which is in the {block_move_name} position. \\nThis blocks the winning move in the following 3 spaces: {n}\")\n",
    "\n",
    "block_move(move_1,move_2)"
   ]
  },
  {
   "cell_type": "markdown",
   "metadata": {},
   "source": [
    "### Challenge #9 - Rearrange the number\n",
    "\n",
    "To complete this challenge, write a function that accepts a number as a parameter. The function should return a number that’s the difference between the largest and smallest numbers that the digits can form in the number.\n",
    "\n",
    "For example, if the parameter is “213”, the function should return “198”, which is the result of 123 subtracted from 321."
   ]
  },
  {
   "cell_type": "code",
   "execution_count": 12,
   "metadata": {},
   "outputs": [
    {
     "name": "stdout",
     "output_type": "stream",
     "text": [
      "4086\n"
     ]
    }
   ],
   "source": [
    "n = \"2135\"\n",
    "\n",
    "def rearrange_diff(num):\n",
    "    a = \"\"\n",
    "    d = \"\"\n",
    "\n",
    "    a = a.join(sorted(num))\n",
    "    d = d.join(sorted(num, reverse=True))\n",
    "\n",
    "    a_int = int(a)\n",
    "    d_int = int(d)\n",
    "\n",
    "    print(d_int - a_int)\n",
    "\n",
    "rearrange_diff(n)"
   ]
  },
  {
   "cell_type": "markdown",
   "metadata": {},
   "source": [
    "### Challenge #10 - Duplicate letter checker\n",
    "\n",
    "Create a function in Python that accepts one parameter: a string that’s a sentence. This function should return True if any word in that sentence contains duplicate letters and False if not."
   ]
  },
  {
   "cell_type": "code",
   "execution_count": 15,
   "metadata": {},
   "outputs": [
    {
     "name": "stdout",
     "output_type": "stream",
     "text": [
      "Does the sentence: 'I like to swim in the pool' contain a duplicate letter? True\n",
      "Does the sentence: 'I like to ride my bike' contain a duplicate letter? False\n"
     ]
    }
   ],
   "source": [
    "char = \"I like to swim in the pool\"\n",
    "char2 = \"I like to ride my bike\"\n",
    "\n",
    "def check_word_dupe(s):\n",
    "    for i in range(len(s)-1):\n",
    "        n = i + 1\n",
    "        if s[i] == s[n]:\n",
    "            return True\n",
    "    return False\n",
    "\n",
    "def check_sentence_dupe(s):\n",
    "    char_list = s.split()\n",
    "    \n",
    "    for i in char_list:\n",
    "        if check_word_dupe(i) == True:\n",
    "            return True\n",
    "    return False\n",
    "\n",
    "print(f'Does the sentence: \\'{char}\\' contain a duplicate letter? {check_sentence_dupe(char)}')\n",
    "print(f'Does the sentence: \\'{char2}\\' contain a duplicate letter? {check_sentence_dupe(char2)}')"
   ]
  }
 ],
 "metadata": {
  "kernelspec": {
   "display_name": "Python 3 (ipykernel)",
   "language": "python",
   "name": "python3"
  },
  "language_info": {
   "codemirror_mode": {
    "name": "ipython",
    "version": 3
   },
   "file_extension": ".py",
   "mimetype": "text/x-python",
   "name": "python",
   "nbconvert_exporter": "python",
   "pygments_lexer": "ipython3",
   "version": "3.10.9"
  }
 },
 "nbformat": 4,
 "nbformat_minor": 4
}
